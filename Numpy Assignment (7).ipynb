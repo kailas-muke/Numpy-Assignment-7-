{
 "cells": [
  {
   "cell_type": "code",
   "execution_count": 1,
   "metadata": {},
   "outputs": [],
   "source": [
    "import numpy as np\n",
    "ml=[3, 5, 7, 2, 8, 10, 11, 65, 72, 81, 99, 100, 150]\n",
    "m1=np.array(ml)"
   ]
  },
  {
   "cell_type": "code",
   "execution_count": 2,
   "metadata": {},
   "outputs": [
    {
     "name": "stdout",
     "output_type": "stream",
     "text": [
      "5.0\n",
      "4.67\n",
      "5.67\n",
      "6.67\n",
      "9.67\n",
      "28.67\n",
      "49.33\n",
      "72.67\n",
      "84.0\n",
      "93.33\n",
      "116.33\n",
      "The moving average sequence has 11 values\n"
     ]
    }
   ],
   "source": [
    "k=3\n",
    "n=0\n",
    "for i in range(1,len(ml)):\n",
    "    if i<(len(range(1,len(ml)))-k+3):\n",
    "        y=m1[(i-1):(k+i-1)].mean()\n",
    "        n+=1\n",
    "        print(round(y,2))\n",
    "print('The moving average sequence has {} values'.format(n)) "
   ]
  },
  {
   "cell_type": "code",
   "execution_count": null,
   "metadata": {},
   "outputs": [],
   "source": []
  }
 ],
 "metadata": {
  "kernelspec": {
   "display_name": "Python 3",
   "language": "python",
   "name": "python3"
  },
  "language_info": {
   "codemirror_mode": {
    "name": "ipython",
    "version": 3
   },
   "file_extension": ".py",
   "mimetype": "text/x-python",
   "name": "python",
   "nbconvert_exporter": "python",
   "pygments_lexer": "ipython3",
   "version": "3.7.1"
  }
 },
 "nbformat": 4,
 "nbformat_minor": 2
}
